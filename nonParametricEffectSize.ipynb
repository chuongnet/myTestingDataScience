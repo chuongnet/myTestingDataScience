{
 "cells": [
  {
   "cell_type": "code",
   "execution_count": 1,
   "id": "f1c513d8",
   "metadata": {},
   "outputs": [],
   "source": [
    "import numpy as np\n",
    "import matplotlib.pyplot as plt\n",
    "from scipy import stats"
   ]
  },
  {
   "cell_type": "markdown",
   "id": "485fb73f",
   "metadata": {},
   "source": [
    "## Non-Parametric hypothesis test\n",
    "The hypothesis testing for ordinal, norminal scales, and the categorical variables, the data samples may show skewed distribution (the skewness distribution makes the parametric tests less powerful because the mean is not the best measurement of central tendency.)\n",
    "\n",
    "1) The underlying data do not meet the assumptions about the population sample\n",
    "\n",
    "2) The population sample size is too small.\n",
    "\n",
    "3) the analyzed data is ordinal and norminal\n",
    "\n",
    "#### Type of tests\n",
    "\n",
    "1) Mann-whitney U test\n",
    "\n",
    "The testing version of the Independent samples t-test. The test primarily deals with two independent samples that containt ordinal data (e.g., customer satisfactions, product rating,...)\n",
    "\n",
    "2) Wilcoxon Signed Rank test\n",
    "\n",
    "This is a counterpart of the paired sample t-test. The test compares two dependent samples with ordinal data\n",
    "\n",
    "3) Kruskal-Wallis test\n",
    "\n",
    "A non-parametric alternative to the one-way ANOVA, The Kruskall-Wallis test is used to compare more than two independent groups with ordinal data."
   ]
  },
  {
   "cell_type": "code",
   "execution_count": 2,
   "id": "04e2c0fc",
   "metadata": {},
   "outputs": [
    {
     "name": "stdout",
     "output_type": "stream",
     "text": [
      "[(0, 0.0009765625), (1, 0.00976562500000001), (2, 0.04394531249999999), (3, 0.11718750000000014), (4, 0.20507812500000022), (5, 0.24609375000000025), (6, 0.20507812500000022), (7, 0.11718750000000014), (8, 0.04394531249999999), (9, 0.00976562500000001), (10, 0.0009765625), (11, 0.0)]\n"
     ]
    },
    {
     "data": {
      "text/plain": [
       "[<matplotlib.lines.Line2D at 0x7f7f91286e90>]"
      ]
     },
     "execution_count": 2,
     "metadata": {},
     "output_type": "execute_result"
    },
    {
     "data": {
      "image/png": "[encoded data removed]",
      "text/plain": [
       "<Figure size 432x288 with 1 Axes>"
      ]
     },
     "metadata": {
      "needs_background": "light"
     },
     "output_type": "display_data"
    }
   ],
   "source": [
    "## PMF Binomial dist. values, used to find the critical value of signed test\n",
    "x = np.arange(0,12)\n",
    "k = 10\n",
    "p = 0.5\n",
    "val = [(i, stats.binom.pmf(i, k, p)) for i in x]\n",
    "print(val)\n",
    "plt.plot(x, stats.binom.pmf(x, k, p))"
   ]
  },
  {
   "cell_type": "markdown",
   "id": "241f87f8",
   "metadata": {},
   "source": [
    "### One-sample signed test for median\n",
    "\n",
    "H0: $m \\geq m_0$\n",
    "\n",
    "H1: $m < m_0$"
   ]
  },
  {
   "cell_type": "code",
   "execution_count": 4,
   "id": "da7d8676",
   "metadata": {},
   "outputs": [
    {
     "name": "stdout",
     "output_type": "stream",
     "text": [
      "accept H0\n",
      "min sign= 3, P= 0.17187500000000014\n"
     ]
    }
   ],
   "source": [
    "X = [88, 70, 66, 55, 52, 50, 45, 43, 40, 39]\n",
    "m0 = 60\n",
    "signed = [np.sign(v - m0) for v in X]\n",
    "pos_signed = 0\n",
    "neg_signed = 0\n",
    "for s in signed:\n",
    "    if s > 0:\n",
    "        pos_signed += 1\n",
    "    elif s < 0:\n",
    "        neg_signed += 1\n",
    "minSigned = min(pos_signed, neg_signed)\n",
    "p = 0\n",
    "for i in range(minSigned + 1):\n",
    "    v = val[i][1]\n",
    "    p += v\n",
    "alpha = 0.05\n",
    "if p < alpha:\n",
    "    print('reject H0')\n",
    "else:\n",
    "    print('accept H0')\n",
    "print(f'min sign= {minSigned}, P= {p}')"
   ]
  },
  {
   "cell_type": "markdown",
   "id": "833a045d",
   "metadata": {},
   "source": [
    "### Wilcoxon Signed Rank sum test (paired two-sample)\n",
    "\n",
    "We want to test if customer refer A over B\n",
    "\n",
    "H0: $mA - mB \\geq 0$\n",
    "\n",
    "H1: $mA - mB < 0$ (lelf-tailed test)"
   ]
  },
  {
   "cell_type": "code",
   "execution_count": 8,
   "id": "5e75b949",
   "metadata": {},
   "outputs": [
    {
     "name": "stdout",
     "output_type": "stream",
     "text": [
      "statistic=8.5 ,p_value=0.6875\n",
      "accept H0, same dist.\n"
     ]
    }
   ],
   "source": [
    "# ## Wilcoxon signed-rank test (paired 2-sample test)\n",
    "# seed the random number generator\n",
    "# np.random.seed(1)\n",
    "# generate random 2 data sets follow N(mu,sigma)\n",
    "# data1 = 5 * np.random.randn(100) + 50\n",
    "# data2 = 5 * np.random.randn(100) + 51\n",
    "# ## 2 random data sets, non-normal dist.\n",
    "data1 = [3, 4, 8, 6, 5, 8]\n",
    "data2 = [6, 2, 6, 9, 4, 9]\n",
    "# statistic Wilcoxon Signed-rank test 2 data sets,\n",
    "stat, p = stats.wilcoxon(data1, data2)\n",
    "print(f'statistic={stat} ,p_value={p}')\n",
    "alpha = 0.05\n",
    "if p < alpha:\n",
    "    print('reject H0, different dist.')\n",
    "else:\n",
    "    print('accept H0, same dist.')"
   ]
  },
  {
   "cell_type": "markdown",
   "id": "0ea6325b",
   "metadata": {},
   "source": [
    "### Wilcoxon Signed Rank sum test (one-sample) for median\n"
   ]
  },
  {
   "cell_type": "code",
   "execution_count": 9,
   "id": "51a52bd2",
   "metadata": {},
   "outputs": [
    {
     "name": "stdout",
     "output_type": "stream",
     "text": [
      "[1, 2, 3, 4, -5, 6, 7, 8, 9, -10]\n",
      "pos_sum= 40, neg_sum= -15\n",
      "min sign: 15\n",
      "accept H0\n"
     ]
    }
   ],
   "source": [
    "# ## Wilcoxon signed-rank sum test for median, one sample\n",
    "# ## using median test sign of observed_value - media\n",
    "# ## H0: the population median value <= 67\n",
    "# ## H1: the population median value > 67 (right-tailed test)\n",
    "marks = [71, 79, 40, 70, 82, 72, 60, 76, 69, 75]\n",
    "m0 = 67\n",
    "neg_sum = 0\n",
    "pos_sum = 0\n",
    "signs = [v - m0 for v in marks]\n",
    "rank = sorted(signs, key=lambda item: np.abs(item), reverse=False)\n",
    "signed_rank = []\n",
    "for i in range(len(rank)):\n",
    "    if rank[i] > 0:\n",
    "        signed_rank.append(i + 1)\n",
    "        pos_sum += i + 1\n",
    "    elif rank[i] < 0:\n",
    "        signed_rank.append(-1 * (i + 1))\n",
    "        neg_sum += -1 * (i + 1)\n",
    "print(signed_rank)\n",
    "# choose min(pos_sign, neg_sign)\n",
    "min_sign = min(pos_sum, np.abs(neg_sum))\n",
    "print(f'pos_sum= {pos_sum}, neg_sum= {neg_sum}')\n",
    "print(f'min sign: {min_sign}')\n",
    "# critical value at n= 10, alpha= 0.05, one tail test\n",
    "cv = 11\n",
    "if min_sign < cv:\n",
    "    print('reject H0')\n",
    "else:\n",
    "    print('accept H0')"
   ]
  },
  {
   "cell_type": "markdown",
   "id": "80cbdaf9",
   "metadata": {},
   "source": [
    "### Wilcoxon Signed Rank sum test (paired two-sample)"
   ]
  },
  {
   "cell_type": "code",
   "execution_count": 12,
   "id": "445d970d",
   "metadata": {},
   "outputs": [
    {
     "name": "stdout",
     "output_type": "stream",
     "text": [
      "[-1, -2, 3, 4, 5, 6]\n",
      "pos_sum= 18, neg_sum= -3\n",
      "min sign: 3\n",
      "reject H0\n"
     ]
    }
   ],
   "source": [
    "# ## Wilcoxon signed-rank sum test for median, one sample\n",
    "# ## using median test sign of observed_value - media\n",
    "# ## H0: the population two median values = 0\n",
    "# ## H1: the population two median values != 0 (two-tailed test)\n",
    "rate1 = [3, 9, 2, 6, 8, 5]\n",
    "rate2 = [9, 7, 5, 10, 6, 8]\n",
    "\n",
    "neg_sum = 0\n",
    "pos_sum = 0\n",
    "signs = [v2 - v1 for v1, v2 in zip(rate1, rate2)]\n",
    "rank = sorted(signs, key=lambda item: np.abs(item), reverse=False)\n",
    "signed_rank = []\n",
    "for i in range(len(rank)):\n",
    "    if rank[i] > 0:\n",
    "        signed_rank.append(i + 1)\n",
    "        pos_sum += i + 1\n",
    "    elif rank[i] < 0:\n",
    "        signed_rank.append(-1 * (i + 1))\n",
    "        neg_sum += -1 * (i + 1)\n",
    "print(signed_rank)\n",
    "# choose min(pos_sign, neg_sign)\n",
    "min_sign = min(pos_sum, np.abs(neg_sum))\n",
    "print(f'pos_sum= {pos_sum}, neg_sum= {neg_sum}')\n",
    "print(f'min sign: {min_sign}')\n",
    "# critical value at n= 6, alpha= 0.1, one tail test\n",
    "cv = 2\n",
    "if min_sign > cv:\n",
    "    print('reject H0')\n",
    "else:\n",
    "    print('accept H0')"
   ]
  },
  {
   "cell_type": "markdown",
   "id": "66cced13",
   "metadata": {},
   "source": [
    "### Mann-Whitney Signed Rank sum test (unpaired two-sample)"
   ]
  },
  {
   "cell_type": "code",
   "execution_count": 13,
   "id": "9b9d31f5",
   "metadata": {},
   "outputs": [
    {
     "name": "stdout",
     "output_type": "stream",
     "text": [
      "statistic U= 2.0, p_value= 0.006295955745189842\n",
      "[ 3.   4.   1.5  7.5  1.5  5.5 11.   9.   5.5 12.   7.5 10. ]\n",
      "R1= 23.0, R2= 55.0\n",
      "U1= 2.0, U2= 34.0\n",
      "statistic U= 2.0\n",
      "reject H0\n",
      "Effect size: u1= 0.05555555555555555, u2= 0.9444444444444444\n"
     ]
    }
   ],
   "source": [
    "# ## Mann-Whitney U test (2-sample), rank-sum test\n",
    "# ## H0: no difference in ranking, both groups are equal\n",
    "# ## H1: both group's ranks are different\n",
    "rate1 = [3, 4, 2, 6, 2, 5]\n",
    "rate2 = [9, 7, 5, 10, 6, 8]\n",
    "stat, p = stats.mannwhitneyu(rate1, rate2)\n",
    "print(f'statistic U= {stat}, p_value= {p}')\n",
    "ranked = stats.rankdata(rate1+rate2)\n",
    "print(ranked)\n",
    "R1 = 0\n",
    "R2 = 0\n",
    "for i in range(len(ranked)):\n",
    "    if i < len(rate1):\n",
    "        R1 += ranked[i]\n",
    "    else:\n",
    "        R2 += ranked[i]\n",
    "print(f'R1= {R1}, R2= {R2}')\n",
    "n1 = len(rate1)\n",
    "n2 = len(rate2)\n",
    "U1 = R1 - (n1*(n1 + 1)/2)\n",
    "U2 = R2 - (n2*(n2 + 1)/2)\n",
    "print(f'U1= {U1}, U2= {U2}')\n",
    "tx = max(R1, R2)\n",
    "# calc statistic value, nx= numbers of group given max(R1, R2)\n",
    "nx = 0\n",
    "if R1 - R2 > 0:\n",
    "    nx = n1\n",
    "else:\n",
    "    nx = n2\n",
    "U = (n1 * n2) + (nx * (nx + 1)/2) - tx\n",
    "print(f'statistic U= {U}')\n",
    "# alpha= 0.05, n1= 6, n2=6, lookup table for cv\n",
    "cv = 5\n",
    "if U < cv:\n",
    "    print('reject H0')\n",
    "else:\n",
    "    print('accept H0')\n",
    "U1_effect = U1/(n1*n2)\n",
    "U2_effect = U2/(n1*n2)\n",
    "print(f'Effect size: u1= {U1_effect}, u2= {U2_effect}')"
   ]
  },
  {
   "cell_type": "markdown",
   "id": "57d968d4",
   "metadata": {},
   "source": [
    "### Concordant, Discordant pairs, Kendall Tau-b"
   ]
  },
  {
   "cell_type": "code",
   "execution_count": 18,
   "id": "eca1ac88",
   "metadata": {},
   "outputs": [
    {
     "name": "stdout",
     "output_type": "stream",
     "text": [
      "concordant= 14 ,discordant= 22\n",
      "tau_a= -0.17777777777777778\n",
      "__tied group1= 7, tied group2= 5\n",
      "tau_b= -0.20519567041703082\n",
      "-0.20519567041703082 0.44656317623750674\n"
     ]
    }
   ],
   "source": [
    "# ## concordant and discordant pairs\n",
    "# g1 = [1, 2, 3, 4, 5]\n",
    "# g2 = [1.5, 1.5, 5, 3, 4]\n",
    "g1 = [5, 8, 4, 8, 8, 4, 6, 9, 10, 8]\n",
    "g2 = [10, 9, 7, 9, 9, 6, 10, 8, 2, 8]\n",
    "pairs = list(zip(g1, g2))\n",
    "con = 0\n",
    "dis = 0\n",
    "tied1 = 0\n",
    "tied2 = 0\n",
    "for i, v in enumerate(pairs):\n",
    "    i += 1\n",
    "    while i < len(pairs):\n",
    "        e1 = pairs[i][0]\n",
    "        e2 = pairs[i][1]\n",
    "        sign1 = np.sign(e1 - v[0])\n",
    "        sign2 = np.sign(e2 - v[1])\n",
    "        if sign1 == 0:\n",
    "            tied1 += 1\n",
    "        if sign2 == 0:\n",
    "            tied2 += 1\n",
    "        if sign1 > 0:\n",
    "            if sign2 > 0:\n",
    "                con += 1\n",
    "            elif sign2 < 0:\n",
    "                dis += 1\n",
    "        elif sign1 < 0:\n",
    "            if sign2 < 0:\n",
    "                con += 1\n",
    "            elif sign2 > 0:\n",
    "                dis += 1\n",
    "        i += 1\n",
    "print(f'concordant= {con} ,discordant= {dis}')\n",
    "n = len(pairs)\n",
    "tau_a = (con - dis) / (n * (n -1)/2)\n",
    "print(f'tau_a= {tau_a}')\n",
    "# ## tau_b\n",
    "print(f'__tied group1= {tied1}, tied group2= {tied2}')\n",
    "n1 = len(g1) * (len(g1) - 1)/2 - tied1\n",
    "n2 = len(g2) * (len(g2) - 1)/2 - tied2\n",
    "tau_b = (con - dis) / np.sqrt(n1 * n2)\n",
    "print(f'tau_b= {tau_b}')\n",
    "tb, p_val = stats.kendalltau(g1, g2)\n",
    "print(tb, p_val)"
   ]
  },
  {
   "cell_type": "markdown",
   "id": "9dc8ed60",
   "metadata": {},
   "source": [
    "### Chi-square test for one-sample "
   ]
  },
  {
   "cell_type": "code",
   "execution_count": 15,
   "id": "3ff5098f",
   "metadata": {},
   "outputs": [
    {
     "name": "stdout",
     "output_type": "stream",
     "text": [
      "X_square= 4.0, df= 3\n",
      "accept H0\n"
     ]
    }
   ],
   "source": [
    "# ## chi-square for one category test\n",
    "# ## calc X_sq value, compares to X_cv (df, alpha), if X_sq > X_cv reject H0\n",
    "# ## H0: the color frequency occurs equal\n",
    "# ## H1: frequency does not equal\n",
    "cat = [8, 4, 2, 6]\n",
    "mu = np.mean(cat)\n",
    "df = len(cat) - 1\n",
    "X_sq = sum([(v - mu)**2/mu for v in cat])\n",
    "print(f'X_square= {X_sq}, df= {df}')\n",
    "# alpha = 0.05, df= 3 lookup for probability of chi_cv on chi dist. table\n",
    "X_cv = 7.815\n",
    "if X_sq > X_cv:\n",
    "    print('reject H0')\n",
    "else:\n",
    "    print('accept H0')"
   ]
  },
  {
   "cell_type": "markdown",
   "id": "372a4507",
   "metadata": {},
   "source": [
    "### Chi-square test for 2 categorical variables (independent samples)"
   ]
  },
  {
   "cell_type": "code",
   "execution_count": 16,
   "id": "70b55b0b",
   "metadata": {},
   "outputs": [
    {
     "name": "stdout",
     "output_type": "stream",
     "text": [
      "[55, 20]\n",
      "[(40, 36.666666666666664), (10, 13.333333333333334), (15, 18.333333333333332), (10, 6.666666666666667)]\n",
      "Chi-square X2= 3.409090909090909\n"
     ]
    }
   ],
   "source": [
    "# ## chi-square test for 2 categorical variables (independent)\n",
    "# ## H0: two category frequencies are similar\n",
    "# ## H1: they are not similar, if X_sq != 0\n",
    "cal1 = [40, 10]\n",
    "cal2 = [15, 10]\n",
    "ext_sum = [ v1 + v2 for v1, v2 in zip(cal1, cal2)]\n",
    "print(ext_sum)\n",
    "total = sum(ext_sum)\n",
    "pairs = []     # store tube (observed, expected) of cal1\n",
    "for i in range(len(cal1)):\n",
    "    pairs.append((cal1[i], sum(cal1) * ext_sum[i] / total))\n",
    "for i in range(len(cal2)):\n",
    "    pairs.append((cal2[i], sum(cal2) * ext_sum[i] / total))\n",
    "# more for loop if there has additional cal\n",
    "print(pairs)\n",
    "X_sq = sum([(v1 - v2)**2/v2 for v1, v2 in pairs])\n",
    "print(f'Chi-square X2= {X_sq}')"
   ]
  },
  {
   "cell_type": "markdown",
   "id": "26fcf9e6",
   "metadata": {},
   "source": [
    "### Cliff'd effect"
   ]
  },
  {
   "cell_type": "code",
   "execution_count": 20,
   "id": "095dde8b",
   "metadata": {},
   "outputs": [
    {
     "name": "stdout",
     "output_type": "stream",
     "text": [
      "Cliff d= -0.28\n",
      "probability of superiority ps= 36.0%\n"
     ]
    }
   ],
   "source": [
    "## Cliff's d\n",
    "g1 = [5, 8, 4, 8, 8, 4, 6, 9, 10, 8]\n",
    "g2 = [10, 9, 7, 9, 9, 6, 10, 8, 2, 8]\n",
    "greater = 0\n",
    "lesser = 0\n",
    "for i in g1:\n",
    "    for j in g2:\n",
    "        if i - j > 0:\n",
    "            greater += 1\n",
    "        elif i - j < 0:\n",
    "            lesser += 1\n",
    "cliff_d = (greater - lesser) / (len(g1) * len(g2))\n",
    "print(f'Cliff d= {cliff_d}')\n",
    "## probability of superiority (non-parametric)\n",
    "pos_sign = 0\n",
    "eq_sign = 0\n",
    "for i in g1:\n",
    "    for j in g2:\n",
    "        if np.sign(i - j) > 0:\n",
    "            pos_sign += 1\n",
    "        elif np.sign(i - j) == 0:\n",
    "            eq_sign += 1\n",
    "ps = (pos_sign + 0.5 * eq_sign)/(len(g1) * len(g2))\n",
    "print(f'probability of superiority ps= {ps*100}%')"
   ]
  },
  {
   "cell_type": "markdown",
   "id": "07d88697",
   "metadata": {},
   "source": [
    "### Pearson's effect and Cohen's d effect"
   ]
  },
  {
   "cell_type": "code",
   "execution_count": 22,
   "id": "5c2a4d39",
   "metadata": {},
   "outputs": [
    {
     "name": "stdout",
     "output_type": "stream",
     "text": [
      "Cohen's correlation coefficient d= -2.89222492212249\n",
      "Pearson correlation coefficient r= 0.5298089018901744\n",
      "0.5298089018901744 0.27964465700487173\n"
     ]
    }
   ],
   "source": [
    "# ## Pearson's correlation coefficient, Cohen d\n",
    "x1 = [43, 21, 25, 42, 57, 59]\n",
    "x2 = [99, 65, 79, 75, 87, 81]\n",
    "n1 = len(x1)\n",
    "n2 = len(x2)\n",
    "x1_mean = np.mean(x1)\n",
    "x2_mean = np.mean(x2)\n",
    "x1_var = np.var(x1, ddof=1)\n",
    "x2_var = np.var(x2, ddof=1)\n",
    "s_pooled = np.sqrt(((n1-1)*x1_var + (n2-1)*x2_var)/(n1 + n2 - 2))\n",
    "\n",
    "d = (x1_mean - x2_mean) / s_pooled\n",
    "print(f'Cohen\\'s correlation coefficient d= {d}')\n",
    "\n",
    "x1_score = [v - x1_mean for v in x1]\n",
    "x2_score = [v - x2_mean for v in x2]\n",
    "x1x2_cov = sum([v1*v2 for v1, v2 in zip(x1_score, x2_score)]) / (n1 - 1)\n",
    "\n",
    "pearson = x1x2_cov / np.sqrt(x1_var * x2_var)\n",
    "print(f'Pearson correlation coefficient r= {pearson}')\n",
    "sta, p_val = stats.pearsonr(x1, x2)\n",
    "print(sta, p_val)\n",
    "\n",
    "# print(np.sign(x1[1] - x1_mean))"
   ]
  },
  {
   "cell_type": "code",
   "execution_count": null,
   "id": "90668108",
   "metadata": {},
   "outputs": [],
   "source": []
  }
 ],
 "metadata": {
  "kernelspec": {
   "display_name": "Python 3",
   "language": "python",
   "name": "python3"
  },
  "language_info": {
   "codemirror_mode": {
    "name": "ipython",
    "version": 3
   },
   "file_extension": ".py",
   "mimetype": "text/x-python",
   "name": "python",
   "nbconvert_exporter": "python",
   "pygments_lexer": "ipython3",
   "version": "3.7.10"
  }
 },
 "nbformat": 4,
 "nbformat_minor": 5
}
