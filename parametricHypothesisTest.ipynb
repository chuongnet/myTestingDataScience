{
 "cells": [
  {
   "cell_type": "code",
   "execution_count": 1,
   "id": "f95e379f",
   "metadata": {},
   "outputs": [],
   "source": [
    "import numpy as np\n",
    "import matplotlib.pyplot as plt\n",
    "from scipy import stats"
   ]
  },
  {
   "cell_type": "markdown",
   "id": "f3b751c0",
   "metadata": {},
   "source": [
    "## T-test, one sample\n",
    "Small sample size (n < 30), unknown population standard deviation, population variance.\n",
    "\n",
    "1. Data points are independent\n",
    "\n",
    "2. Sample values are recored and taken accurately\n",
    "\n",
    "3. Based on Student-T test distribution (t-table)\n",
    "\n",
    "4. Critical value t(df, $\\alpha$), commonly significant level $\\alpha$= 0.05, 0.01, or 0.1\n",
    "\n",
    "$t_{score} = \\frac{\\bar{x} - \\mu}{SE} = \\frac{\\bar{x} - \\mu}{\\sigma/\\sqrt{n}}$\n",
    "\n",
    "Where:\n",
    "\n",
    "*) df: degree of freedom df= n - 1\n",
    "    \n",
    "*) n: sample size\n",
    " \n",
    "*) $\\bar{x}$: the sample mean\n",
    "    \n",
    "*) $\\mu$: the hypothesis mean\n",
    "    \n",
    "*) $\\sigma$: standard deviation (std) $\\sigma = \\sqrt{\\frac{1}{n - 1}\\sum_{i=1}^n(x_i - \\bar{x})^2}$\n",
    "    \n",
    "*) SE: standard error\n",
    "\n",
    "## State null hypothesis (H0)\n",
    "Null hypothesis is allways the accepted fact.\n",
    "\n",
    "Testing the null-hypothesis, when it is going wrong, what happend?\n",
    "\n",
    "The altenative hypothesis (H1) is the researcher's beliefs.\n",
    "\n",
    "## Finding critical value (cv) at the significant level\n",
    "Depend on the $\\alpha$ level, we lookup on the t-table or z-table distribution to know exactly value to test the null-hypothesis. \n",
    "\n",
    "For $\\alpha$ level at 0.05 (meaning 5% of region under normal distribution), we've got (50% - 5%) or (100% - 5%) of the confident interval (CI) to accept the null-hypothesis\n",
    "\n",
    "Mapping the CI value on the t-table or z-table to find the t or z critical value.\n",
    "\n",
    "## Calculate the statistical value\n",
    "Depend on one-sample or two-sample of the t or z test, applying the formula for each test\n",
    "\n",
    "$z_{score} = \\frac{\\bar{X} - \\mu}{\\sigma/\\sqrt{n}}$\n",
    "\n",
    "$t_{score} = \\frac{\\bar{x} - \\mu}{s/\\sqrt{n}}$\n",
    "\n",
    "*) s: the sample std $s = \\sqrt{\\frac{1}{n - 1}\\sum_{i=1}^n(x_i - \\bar{x})^2}$\n",
    "\n",
    "## Accept or Reject null-hypothesis\n",
    "Depend on the state of H0:\n",
    "\n",
    "*) left-tailed test: H1 $\\mu < \\mu_0$ : z (or t) < -cv : Reject H0\n",
    "\n",
    "*) right-tailed test: H1 $\\mu > \\mu_0$ : z (or t) > cv : Reject H0\n",
    "\n",
    "*) two-tailed test: H1 $\\mu \\neq \\mu_0$ : -cv $\\leq$ z (or t) $\\leq$ cv : Accept H0"
   ]
  },
  {
   "cell_type": "code",
   "execution_count": 2,
   "id": "cb88b0ac",
   "metadata": {},
   "outputs": [
    {
     "name": "stdout",
     "output_type": "stream",
     "text": [
      "reject H0\n",
      "-1.6063235132929476\n",
      "-1.6063235132929476 0.1426652014799611\n"
     ]
    }
   ],
   "source": [
    "## T-test, one sample\n",
    "x = [138, 130, 120, 130, 108, 135, 134, 122, 115, 118]\n",
    "mu = 130\n",
    "x_bar = np.mean(x)\n",
    "s = np.std(x, ddof=1)     # std of sample with size (df) N - 1\n",
    "se = s / np.sqrt(len(x))\n",
    "t = (x_bar - mu)/se\n",
    "cv = -1.38\n",
    "# because left-tail test, t < cv to reject\n",
    "if t < cv:\n",
    "    print('reject H0')\n",
    "else:\n",
    "    print('accept H0')\n",
    "print(t)\n",
    "t_val, p_val = stats.ttest_1samp(x, mu)#, alternative='less')  # greater, two-sided (default)\n",
    "print(t_val, p_val)"
   ]
  },
  {
   "cell_type": "code",
   "execution_count": 3,
   "id": "362d3c37",
   "metadata": {},
   "outputs": [
    {
     "name": "stdout",
     "output_type": "stream",
     "text": [
      "reject H0\n",
      "-1.9364916731037085\n"
     ]
    }
   ],
   "source": [
    "## Z-test, one sample\n",
    "## H0: x_bar - mu >= 0\n",
    "## H1: x_bar - mu < 0 (left-tail test)\n",
    "mu = 80\n",
    "sigma = 20\n",
    "x_bar = 75\n",
    "n = 60\n",
    "z_cv = -1.645   # 5% of alpha level\n",
    "se = sigma / np.sqrt(n)\n",
    "z = (x_bar - mu) / se\n",
    "# left-tail test\n",
    "if z < z_cv:\n",
    "    print('reject H0')\n",
    "else:\n",
    "    print('accept H0')\n",
    "print(z)"
   ]
  },
  {
   "cell_type": "code",
   "execution_count": 4,
   "id": "f85aeb56",
   "metadata": {},
   "outputs": [
    {
     "name": "stdout",
     "output_type": "stream",
     "text": [
      "3.4860662073428483\n",
      "-3.4860662073428483 0.0036344776518329644\n",
      "reject H0\n"
     ]
    }
   ],
   "source": [
    "## T-test, two dependent samples (paired test)\n",
    "# H0: mu_d = 0\n",
    "# H1: mu_d != 0\n",
    "x1 = [17, 17, 15, 19, 18, 14, 27, 20, 12, 21, 20, 24, 17, 17, 17]\n",
    "x2 = [22, 21, 21, 26, 20, 14, 31, 18, 22, 20, 27, 23, 15, 24, 24]\n",
    "mu = 0\n",
    "x_dif = [v2 - v1 for v1, v2 in zip(x1, x2)]\n",
    "x_bar = np.mean(x_dif)\n",
    "s_dif = np.std(x_dif, ddof=1)   # std of sampling dist.\n",
    "se = s_dif / np.sqrt(len(x1))\n",
    "t = (x_bar - mu) / se\n",
    "# print(x_dif, x_bar, s_dif, se)\n",
    "print(t)\n",
    "t_val, p_val = stats.ttest_rel(x1, x2)\n",
    "print(t_val, p_val)\n",
    "alpha = 0.05    # if p_value > alpha value, we cannot reject H0\n",
    "if p_val < alpha:\n",
    "    print('reject H0')\n",
    "else:\n",
    "    print('accept H0')"
   ]
  },
  {
   "cell_type": "code",
   "execution_count": 5,
   "id": "57ddb317",
   "metadata": {},
   "outputs": [
    {
     "name": "stdout",
     "output_type": "stream",
     "text": [
      "unpaired test...\n",
      "-2.3641605822510674 14.238095238095237 19.266666666666662\n",
      "reject H0\n",
      "-2.3641605822510674 0.025410959846806334\n"
     ]
    }
   ],
   "source": [
    "## T-test, two independent samples (unpaired test) and unequal variances\n",
    "print('unpaired test...')\n",
    "x1_bar = np.mean(x1)\n",
    "x2_bar = np.mean(x2)\n",
    "var_s1 = np.var(x1, ddof=1)\n",
    "var_s2 = np.var(x2, ddof=1)\n",
    "se = np.sqrt(var_s1/len(x1) + var_s2/len(x2))\n",
    "t = (x1_bar - x2_bar - mu) / se\n",
    "print(t, var_s1, var_s2)\n",
    "t_val, p_val = stats.ttest_ind(x1, x2, equal_var=False, alternative='two-sided')\n",
    "alpha = 0.05\n",
    "if p_val < alpha:\n",
    "    print('reject H0')\n",
    "else:\n",
    "    print('accept H0')\n",
    "print(t_val, p_val)"
   ]
  },
  {
   "cell_type": "code",
   "execution_count": 6,
   "id": "b636d274",
   "metadata": {},
   "outputs": [
    {
     "name": "stdout",
     "output_type": "stream",
     "text": [
      "2.176767731525196\n",
      "2.176767731525196 0.04305271652983949\n",
      "reject H0\n"
     ]
    }
   ],
   "source": [
    "## T-test, 2 independent sample (unpaired), (equal variances)\n",
    "x1 = [13, 17, 19, 11, 20, 15, 18, 9, 12, 16]\n",
    "x2 = [12, 8, 6, 16, 12, 14, 10, 18, 4, 11]\n",
    "mu = 0\n",
    "x1_bar = np.mean(x1)\n",
    "x2_bar = np.mean(x2)\n",
    "df1 = len(x1) - 1\n",
    "df2 = len(x2) - 1\n",
    "s1 = np.var(x1, ddof=1)\n",
    "s2 = np.var(x2, ddof=1)\n",
    "# because testing with assuming equal variances, the pooled variance s**2\n",
    "# we using std s to calculate\n",
    "s = np.sqrt((df1*s1 + df2*s2)/(df1 + df2))\n",
    "t = (x1_bar - x2_bar - mu)/(s * np.sqrt(1/len(x1) + 1/len(x2)))\n",
    "print(t)\n",
    "t_val, p_val = stats.ttest_ind(x1, x2, equal_var=True, alternative='two-sided')\n",
    "print(t_val, p_val)\n",
    "alpha = 0.05\n",
    "if p_val <= alpha:\n",
    "    print('reject H0')\n",
    "else:\n",
    "    print('accept H0')"
   ]
  },
  {
   "cell_type": "code",
   "execution_count": 7,
   "id": "6fdf0c8d",
   "metadata": {},
   "outputs": [
    {
     "name": "stdout",
     "output_type": "stream",
     "text": [
      "0.55 0.07035623639735145 4.264014327112208\n",
      "reject H0\n"
     ]
    }
   ],
   "source": [
    "## Z-test, by calc probabilities\n",
    "## give sweets to students improving education by more than 10%\n",
    "## H0: p_s - p <= 0\n",
    "## H1: p_s - p > 0 (right-tail test)\n",
    "p1 = 0.7\n",
    "p2 = 0.4\n",
    "n1 = 100\n",
    "n2 = 100\n",
    "p = (n1*p1 + n2*p2)/(n1 + n2)\n",
    "se = np.sqrt(p*(1 - p)*(1/n1 + 1/n2))\n",
    "z = (p1 - p2) / se\n",
    "print(p, se, z)\n",
    "# z_critical at alpha = 10%, lookup on z-table for CI = 50% - 10%\n",
    "z_cv = 1.29\n",
    "if z > z_cv:\n",
    "    print('reject H0')\n",
    "else:\n",
    "    print('accept h0')"
   ]
  },
  {
   "cell_type": "code",
   "execution_count": 8,
   "id": "c3ec7a1b",
   "metadata": {},
   "outputs": [
    {
     "name": "stdout",
     "output_type": "stream",
     "text": [
      "0.041165474766825305 8.985900954503084\n",
      "reject H0\n"
     ]
    }
   ],
   "source": [
    "## Z-test, two samples proportions\n",
    "# drug A: 41 out of 195\n",
    "# drug B: 351 out of 605\n",
    "# significant level: 5%. are the 2 drug comparable\n",
    "# H0: proportions are the same\n",
    "# H1: proportions are different\n",
    "x1 = 41\n",
    "x2 = 351\n",
    "n1 = 195\n",
    "n2 = 605\n",
    "mu = 0\n",
    "cv = 1.96\n",
    "p1 = x1/n1\n",
    "p2 = x2/n2\n",
    "p = (x1 + x2) / (n1 + n2)\n",
    "se = np.sqrt(p * (1 - p) * (1/n1 + 1/n2))\n",
    "z = np.abs((p1 - p2 - mu) / se)\n",
    "print(se, z)\n",
    "if z > cv:\n",
    "    print('reject H0')\n",
    "else:\n",
    "    print('accept H0')"
   ]
  },
  {
   "cell_type": "code",
   "execution_count": 9,
   "id": "9a6e57a7",
   "metadata": {},
   "outputs": [
    {
     "name": "stdout",
     "output_type": "stream",
     "text": [
      "2.3076923076923075\n"
     ]
    }
   ],
   "source": [
    "## p-value for Z-test, two-tailed test\n",
    "## H0: mu = x_bar\n",
    "## H1: mu != x_bar\n",
    "mu = 168\n",
    "x_bar = 169.5\n",
    "n = 36\n",
    "sigma = 3.9\n",
    "se = sigma / np.sqrt(36)\n",
    "z = (x_bar - mu) / se\n",
    "# based on z value to map it on the z-table to lookup prob. of reject region\n",
    "print(z)\n",
    "# got z = 2.30 and area of z(2.3,0.00) = 0.9893 (whole area from the left to the z value)\n",
    "# rejection region = 1 - 0.9893 = 0.0107\n",
    "# because this is the 2-tailed test, the rejection region on the left and right of bell curve\n",
    "# p_value = 0.0107 * 2 = 0.0214\n",
    "# p_value < critical value (alpha = 0.05)\n",
    "# reject the H0"
   ]
  },
  {
   "cell_type": "code",
   "execution_count": null,
   "id": "5c54888d",
   "metadata": {},
   "outputs": [],
   "source": []
  }
 ],
 "metadata": {
  "kernelspec": {
   "display_name": "Python 3",
   "language": "python",
   "name": "python3"
  },
  "language_info": {
   "codemirror_mode": {
    "name": "ipython",
    "version": 3
   },
   "file_extension": ".py",
   "mimetype": "text/x-python",
   "name": "python",
   "nbconvert_exporter": "python",
   "pygments_lexer": "ipython3",
   "version": "3.7.10"
  }
 },
 "nbformat": 4,
 "nbformat_minor": 5
}
