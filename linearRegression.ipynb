{
 "cells": [
  {
   "cell_type": "markdown",
   "id": "12f33b67",
   "metadata": {},
   "source": [
    "## Linear Regression analysis\n",
    "\n",
    "Regression analysis is a way to find a trend in data, making a prediction about new data.\n",
    "\n",
    "Regression also gives an R-squared value, this number tells you how good the model is\n",
    "\n",
    "simple regression: $y = b_0 + b_1x$\n",
    "\n",
    "#### Linear parameters estimation\n",
    "\n",
    "$b_0 = \\bar{y} - b_1\\bar{x} = \\displaystyle\\frac{\\sum{y}\\sum{x^2} - \\sum{x}\\sum{xy}}{n\\sum{x^2} - \\left(\\sum{x}\\right)^2}$\n",
    "\n",
    "$b_1 = \\displaystyle\\frac{n\\sum{xy} - \\sum{x}\\sum{y}}{n\\sum{x^2} - \\left(\\sum{x}\\right)^2}$\n",
    "\n",
    "The statictical outputs\n",
    "\n",
    "- R: the multiple coefficient\n",
    "\n",
    "- R-squared: the coefficient of determination\n",
    "\n",
    "- adjusted R-squared\n",
    "\n",
    "- Standard Error of estimate"
   ]
  },
  {
   "cell_type": "code",
   "execution_count": 2,
   "id": "4735b9fa",
   "metadata": {},
   "outputs": [
    {
     "name": "stdout",
     "output_type": "stream",
     "text": [
      "Regression model: y_hat = a + bx >> y = 65.1415715245131 + 0.3852249832102082x\n",
      "[81.70624580255205, 73.23129617192747, 74.7721961047683, 81.32102081934184, 87.09939556749497, 87.86984553391538]\n",
      "Goodness of fit R_squared = 0.2806974725220722\n"
     ]
    },
    {
     "data": {
      "text/plain": [
       "<matplotlib.legend.Legend at 0x7f38d33a1850>"
      ]
     },
     "execution_count": 2,
     "metadata": {},
     "output_type": "execute_result"
    },
    {
     "data": {
      "image/png": "[encoded data removed]",
      "text/plain": [
       "<Figure size 432x288 with 1 Axes>"
      ]
     },
     "metadata": {
      "needs_background": "light"
     },
     "output_type": "display_data"
    }
   ],
   "source": [
    "import numpy as np\n",
    "import matplotlib.pyplot as plt\n",
    "from scipy import stats\n",
    "\n",
    "# ## linear regression equation, same way to find Pearson's correlation coefficient\n",
    "# y = a + bx\n",
    "x = [43, 21, 25, 42, 57, 59]\n",
    "y = [99, 65, 79, 75, 87, 81]\n",
    "# applying Pearson's correlation\n",
    "n = len(x)\n",
    "x_sum = np.sum(x)\n",
    "y_sum = np.sum(y)\n",
    "xy_sum = np.sum([v1*v2 for v1, v2 in zip(x,y)])\n",
    "x_sq_sum = np.sum([v**2 for v in x])\n",
    "x_sum_sq = x_sum**2\n",
    "y_sq_sum = np.sum([v**2 for v in y])\n",
    "b = (n * xy_sum - x_sum * y_sum) / (n * x_sq_sum - x_sum_sq)\n",
    "a = (y_sum * x_sq_sum - x_sum * xy_sum) / (n * x_sq_sum - x_sum_sq)\n",
    "print('Regression model: y_hat = a + bx >>', f'y = {a} + {b}x')\n",
    "\n",
    "# Sum squared Error SSE = sum((y - y_predicted)**2)\n",
    "y_hat = [a + b*v for v in x]\n",
    "print(y_hat)\n",
    "res = [(v1 - v2)**2 for v1, v2 in zip(y, y_hat)]\n",
    "# print(res)\n",
    "sse = np.sum(res)   # sum squared error SSE or residual sum squared error (RSS)\n",
    "# print(sse)\n",
    "y_mean = np.mean(y)\n",
    "# total of sum squared error: sst = sum((y - y_mean)**2)\n",
    "# total sum squared error: sst = sse + rss\n",
    "sst = np.sum([(v - y_mean)**2 for v in y])\n",
    "# print(sst)\n",
    "# Goodness of fit: R_squared\n",
    "r_sq = 1 - (sse / sst)\n",
    "print(f'Goodness of fit R_squared = {r_sq}')\n",
    "# ##residual sum squared error: rss = sst - sse\n",
    "plt.scatter(x, y, color='red', label='observed')\n",
    "plt.plot(x, y_hat, label='predicted')\n",
    "plt.legend()"
   ]
  },
  {
   "cell_type": "code",
   "execution_count": null,
   "id": "7c9d197d",
   "metadata": {},
   "outputs": [],
   "source": []
  }
 ],
 "metadata": {
  "kernelspec": {
   "display_name": "Python 3",
   "language": "python",
   "name": "python3"
  },
  "language_info": {
   "codemirror_mode": {
    "name": "ipython",
    "version": 3
   },
   "file_extension": ".py",
   "mimetype": "text/x-python",
   "name": "python",
   "nbconvert_exporter": "python",
   "pygments_lexer": "ipython3",
   "version": "3.7.10"
  }
 },
 "nbformat": 4,
 "nbformat_minor": 5
}
