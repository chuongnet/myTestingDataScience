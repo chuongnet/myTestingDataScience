{
 "cells": [
  {
   "cell_type": "code",
   "execution_count": 12,
   "id": "7f33ed6b",
   "metadata": {},
   "outputs": [],
   "source": [
    "from numpy import hstack\n",
    "from numpy.random import normal\n",
    "import numpy as np\n",
    "import matplotlib.pyplot as plt\n",
    "%matplotlib inline"
   ]
  },
  {
   "cell_type": "markdown",
   "id": "5d3ef240",
   "metadata": {},
   "source": [
    "## Expectation Maximization Algorithm for Gaussian Mixture Model\n",
    "\n",
    "The processes used to generate the data point represents a latent variable, e.g. process 0 and process 1. It influences the data but is not observable. As such, the EM algorithm is an appropriate approach to use to estimate the parameters of the distributions.\n",
    "\n",
    "In the EM algorithm, the estimation-step would estimate a value for the process latent variable for each data point, and the maximization step would optimize the parameters of the probability distributions in an attempt to best capture the density of the data. The process is repeated until a good set of latent values and a maximum likelihood is achieved that fits the data.\n",
    "\n",
    "*) E-Step. Estimate the expected value for each latent variable.\n",
    "\n",
    "*) M-Step. Optimize the parameters of the distribution using maximum likelihood.\n",
    "\n",
    "We can imagine how this optimization procedure could be constrained to just the distribution means, or generalized to a mixture of many different Gaussian distributions."
   ]
  },
  {
   "cell_type": "code",
   "execution_count": 11,
   "id": "7eafc125",
   "metadata": {},
   "outputs": [
    {
     "data": {
      "text/plain": [
       "(array([2.67394756e-04, 1.78263171e-04, 8.02184269e-04, 9.80447440e-04,\n",
       "        1.78263171e-03, 2.85221073e-03, 5.52615830e-03, 8.02184269e-03,\n",
       "        9.53707964e-03, 1.44393168e-02, 1.61328170e-02, 1.70241328e-02,\n",
       "        2.35307386e-02, 2.42437912e-02, 2.27285543e-02, 2.32633438e-02,\n",
       "        1.97872120e-02, 2.00546067e-02, 1.64002117e-02, 1.25675535e-02,\n",
       "        1.08740534e-02, 1.06957903e-02, 9.18055330e-03, 1.08740534e-02,\n",
       "        1.55980275e-02, 2.03220015e-02, 2.50459755e-02, 3.11069233e-02,\n",
       "        3.71678711e-02, 4.69723455e-02, 5.33898197e-02, 5.50833198e-02,\n",
       "        5.68659515e-02, 5.41920040e-02, 4.62592928e-02, 4.26940294e-02,\n",
       "        3.34243445e-02, 2.80764494e-02, 2.16589753e-02, 1.47958432e-02,\n",
       "        1.13197114e-02, 5.88268464e-03, 4.54571086e-03, 2.58481598e-03,\n",
       "        1.06957903e-03, 6.23921098e-04, 7.13052684e-04, 0.00000000e+00,\n",
       "        8.91315855e-05, 8.91315855e-05]),\n",
       " array([ 3.75944837,  4.8813851 ,  6.00332184,  7.12525857,  8.24719531,\n",
       "         9.36913204, 10.49106878, 11.61300552, 12.73494225, 13.85687899,\n",
       "        14.97881572, 16.10075246, 17.22268919, 18.34462593, 19.46656266,\n",
       "        20.5884994 , 21.71043613, 22.83237287, 23.9543096 , 25.07624634,\n",
       "        26.19818308, 27.32011981, 28.44205655, 29.56399328, 30.68593002,\n",
       "        31.80786675, 32.92980349, 34.05174022, 35.17367696, 36.29561369,\n",
       "        37.41755043, 38.53948716, 39.6614239 , 40.78336064, 41.90529737,\n",
       "        43.02723411, 44.14917084, 45.27110758, 46.39304431, 47.51498105,\n",
       "        48.63691778, 49.75885452, 50.88079125, 52.00272799, 53.12466472,\n",
       "        54.24660146, 55.3685382 , 56.49047493, 57.61241167, 58.7343484 ,\n",
       "        59.85628514]),\n",
       " <BarContainer object of 50 artists>)"
      ]
     },
     "execution_count": 11,
     "metadata": {},
     "output_type": "execute_result"
    },
    {
     "data": {
      "image/png": "[encoded data removed]",
      "text/plain": [
       "<Figure size 432x288 with 1 Axes>"
      ]
     },
     "metadata": {
      "needs_background": "light"
     },
     "output_type": "display_data"
    }
   ],
   "source": [
    "# generates the samples\n",
    "X1 = normal(loc=20, scale=5, size=3000)\n",
    "X2 = normal(loc=40, scale=5, size=7000)\n",
    "X = hstack((X1, X2))\n",
    "X = X.reshape((len(X), 1))\n",
    "# plot the histogram\n",
    "plt.hist(X, bins=50, density=True)"
   ]
  },
  {
   "cell_type": "code",
   "execution_count": 41,
   "id": "510e34fa",
   "metadata": {},
   "outputs": [
    {
     "name": "stdout",
     "output_type": "stream",
     "text": [
      "[1 1 1 1 1 1 1 1 1 1 1 1 1 1 1 1 1 1 1 1 1 1 1 1 1 1 1 1 1 1 1 1 1 1 1 1 1\n",
      " 1 1 1 1 1 1 1 1 1 1 1 1 1 1 1 1 1 1 1 1 1 1 1 1 1 1 1 1 1 1 1 1 1 1 1 1 1\n",
      " 1 1 1 1 1 1 1 1 1 1 1 1 1 1 1 1 1 1 1 1 1 1 1 1 1 1]\n",
      "[0 0 0 0 0 0 0 0 1 0 0 0 0 0 0 0 0 0 0 0 0 0 0 0 0 0 0 0 0 0 0 0 0 0 0 0 0\n",
      " 0 0 0 0 0 0 0 1 0 0 0 1 0 0 0 0 0 0 0 0 0 0 0 0 0 0 0 0 0 0 1 0 0 0 0 0 0\n",
      " 0 0 0 0 0 0 0 0 0 0 0 0 0 0 0 0 0 0 0 0 0 0 0 0 0 0]\n"
     ]
    }
   ],
   "source": [
    "from sklearn.mixture import GaussianMixture\n",
    "# fit model\n",
    "model = GaussianMixture(n_components=2, init_params='random')\n",
    "model.fit(X)\n",
    "yhat = model.predict(X)\n",
    "# check the latent values from the first 100 points\n",
    "print(yhat[:100])\n",
    "print(yhat[-100:])"
   ]
  },
  {
   "cell_type": "code",
   "execution_count": 17,
   "id": "029558ec",
   "metadata": {},
   "outputs": [
    {
     "name": "stdout",
     "output_type": "stream",
     "text": [
      "[[22.8282194 ]\n",
      " [31.71486004]\n",
      " [24.21460697]\n",
      " [ 7.01699808]\n",
      " [19.52971087]\n",
      " [23.66404685]\n",
      " [18.09470022]\n",
      " [12.82623753]\n",
      " [19.02973996]\n",
      " [14.01070128]]\n",
      "[[48.56494761]\n",
      " [37.93762816]\n",
      " [40.17001299]\n",
      " [49.47079342]\n",
      " [37.48931097]\n",
      " [45.63614128]\n",
      " [39.34735202]\n",
      " [38.47908232]\n",
      " [48.38357836]\n",
      " [39.07343322]]\n"
     ]
    }
   ],
   "source": [
    "from scipy import stats\n",
    "print(X[:10])\n",
    "print(X[-10:])"
   ]
  },
  {
   "cell_type": "code",
   "execution_count": 43,
   "id": "a815e8d0",
   "metadata": {},
   "outputs": [
    {
     "data": {
      "text/plain": [
       "<BarContainer object of 10000 artists>"
      ]
     },
     "execution_count": 43,
     "metadata": {},
     "output_type": "execute_result"
    },
    {
     "data": {
      "image/png": "[encoded data removed]",
      "text/plain": [
       "<Figure size 432x288 with 1 Axes>"
      ]
     },
     "metadata": {
      "needs_background": "light"
     },
     "output_type": "display_data"
    }
   ],
   "source": [
    "plt.bar(yhat, stats.norm.cdf(yhat))"
   ]
  },
  {
   "cell_type": "code",
   "execution_count": 46,
   "id": "4590ed58",
   "metadata": {},
   "outputs": [
    {
     "data": {
      "text/plain": [
       "<BarContainer object of 10000 artists>"
      ]
     },
     "execution_count": 46,
     "metadata": {},
     "output_type": "execute_result"
    },
    {
     "data": {
      "image/png": "[encoded data removed]",
      "text/plain": [
       "<Figure size 432x288 with 1 Axes>"
      ]
     },
     "metadata": {
      "needs_background": "light"
     },
     "output_type": "display_data"
    }
   ],
   "source": [
    "p = 0.5\n",
    "plt.bar(yhat, stats.bernoulli.cdf(yhat, p))"
   ]
  }
 ],
 "metadata": {
  "kernelspec": {
   "display_name": "Python 3",
   "language": "python",
   "name": "python3"
  },
  "language_info": {
   "codemirror_mode": {
    "name": "ipython",
    "version": 3
   },
   "file_extension": ".py",
   "mimetype": "text/x-python",
   "name": "python",
   "nbconvert_exporter": "python",
   "pygments_lexer": "ipython3",
   "version": "3.7.10"
  }
 },
 "nbformat": 4,
 "nbformat_minor": 5
}
